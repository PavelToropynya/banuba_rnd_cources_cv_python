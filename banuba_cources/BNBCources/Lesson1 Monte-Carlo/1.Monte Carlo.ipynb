{
 "cells": [
  {
   "cell_type": "code",
   "execution_count": 6,
   "id": "50e7190b",
   "metadata": {},
   "outputs": [],
   "source": [
    "import numpy as np\n",
    "import matplotlib.pyplot as plt\n",
    "import os\n",
    "import random"
   ]
  },
  {
   "cell_type": "code",
   "execution_count": 7,
   "id": "541ce9b8",
   "metadata": {},
   "outputs": [],
   "source": [
    "import cv2\n",
    "import math"
   ]
  },
  {
   "cell_type": "code",
   "execution_count": 8,
   "id": "5891b410",
   "metadata": {},
   "outputs": [
    {
     "data": {
      "image/png": "[encoded data removed]",
      "text/plain": [
       "<Figure size 432x288 with 1 Axes>"
      ]
     },
     "metadata": {
      "needs_background": "light"
     },
     "output_type": "display_data"
    },
    {
     "data": {
      "text/plain": [
       "True"
      ]
     },
     "execution_count": 8,
     "metadata": {},
     "output_type": "execute_result"
    }
   ],
   "source": [
    "height = 512\n",
    "width = 512\n",
    "blank_image = np.zeros((height,width,3), np.uint8)\n",
    "# red circle\n",
    "center  = (142, 73)\n",
    "radius = 57\n",
    "color = (255, 118, 118)\n",
    "thinkness = -1\n",
    "cv2.circle(blank_image, center, radius, color, thinkness)\n",
    "\n",
    "# yellow circle\n",
    "center  = (160, 175)\n",
    "radius = 57\n",
    "color = (255, 255, 118)\n",
    "thinkness = -1\n",
    "cv2.circle(blank_image, center, radius, color, thinkness)\n",
    "\n",
    "# blu circle\n",
    "center  = (300, 400)\n",
    "radius = 57\n",
    "color = (166, 255, 255)\n",
    "thinkness = -1\n",
    "cv2.circle(blank_image, center, radius, color, thinkness)\n",
    "\n",
    "# call imshow() using plt object\n",
    "plt.imshow(blank_image)\n",
    " \n",
    "# display that image\n",
    "plt.show()\n",
    "cv2.imwrite('circle_img.png', blank_image)"
   ]
  },
  {
   "cell_type": "code",
   "execution_count": 9,
   "id": "56fc9766",
   "metadata": {},
   "outputs": [],
   "source": [
    "dot_center = (142, 73)\n",
    "dot_radius = 3\n",
    "dot_color = (0, 118, 255)\n",
    "dot_thinkness = -1\n",
    "dot_numbers = 1000000\n",
    "res = [random.randrange(0, 512, 1) for i in range(dot_numbers)]\n",
    " \n",
    "# printing result\n",
    "# print (\"Random number list is : \" +  str(res))\n",
    "dot_center = res[0 : 1 + 1: ]\n",
    "# print (dot_center)\n",
    "dot = 0\n",
    "for i in range(0, int(dot_numbers) - 1):\n",
    "#     print(i)\n",
    "    dot_center = (res[i], res[i + 1])\n",
    "    pixel_color = blank_image[dot_center[0]][dot_center[1]][0]\n",
    "    if pixel_color != 0 :\n",
    "        dot = dot + 1 \n",
    "        "
   ]
  },
  {
   "cell_type": "code",
   "execution_count": 10,
   "id": "2ebfc841",
   "metadata": {},
   "outputs": [],
   "source": [
    "# cv2.circle(blank_image, dot_center, dot_radius, dot_color, dot_thinkness)\n",
    "# print(i)\n",
    "# plt.imshow(blank_image)    \n",
    "# plt.show()\n",
    "    \n"
   ]
  },
  {
   "cell_type": "code",
   "execution_count": 11,
   "id": "af813320",
   "metadata": {},
   "outputs": [
    {
     "name": "stdout",
     "output_type": "stream",
     "text": [
      "114930\n"
     ]
    }
   ],
   "source": [
    "print(dot)"
   ]
  },
  {
   "cell_type": "code",
   "execution_count": 12,
   "id": "35258ee6",
   "metadata": {},
   "outputs": [
    {
     "name": "stdout",
     "output_type": "stream",
     "text": [
      "30128.20992\n",
      "0.11493\n",
      "97.92909205418252\n"
     ]
    },
    {
     "data": {
      "text/plain": [
       "262144"
      ]
     },
     "execution_count": 12,
     "metadata": {},
     "output_type": "execute_result"
    }
   ],
   "source": [
    "s = width * height * dot / dot_numbers\n",
    "\n",
    "print(s)\n",
    "\n",
    "print(dot / dot_numbers)\n",
    "\n",
    "# s = pi r ^ 2\n",
    "radius = math.sqrt(s / math.pi)\n",
    "print(radius)\n",
    "512 * 512"
   ]
  },
  {
   "cell_type": "code",
   "execution_count": null,
   "id": "b022456e",
   "metadata": {},
   "outputs": [],
   "source": []
  },
  {
   "cell_type": "code",
   "execution_count": null,
   "id": "7d87b391",
   "metadata": {},
   "outputs": [],
   "source": []
  }
 ],
 "metadata": {
  "kernelspec": {
   "display_name": "Python 3 (ipykernel)",
   "language": "python",
   "name": "python3"
  },
  "language_info": {
   "codemirror_mode": {
    "name": "ipython",
    "version": 3
   },
   "file_extension": ".py",
   "mimetype": "text/x-python",
   "name": "python",
   "nbconvert_exporter": "python",
   "pygments_lexer": "ipython3",
   "version": "3.9.12"
  }
 },
 "nbformat": 4,
 "nbformat_minor": 5
}
